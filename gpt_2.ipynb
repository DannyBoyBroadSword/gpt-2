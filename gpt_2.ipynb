{
  "nbformat": 4,
  "nbformat_minor": 0,
  "metadata": {
    "colab": {
      "name": "gpt-2",
      "version": "0.3.2",
      "provenance": [],
      "include_colab_link": true
    },
    "kernelspec": {
      "name": "python3",
      "display_name": "Python 3"
    },
    "accelerator": "GPU"
  },
  "cells": [
    {
      "cell_type": "markdown",
      "metadata": {
        "id": "view-in-github",
        "colab_type": "text"
      },
      "source": [
        "<a href=\"https://colab.research.google.com/github/DannyBoyBroadSword/gpt-2/blob/master/gpt_2.ipynb\" target=\"_parent\"><img src=\"https://colab.research.google.com/assets/colab-badge.svg\" alt=\"Open In Colab\"/></a>"
      ]
    },
    {
      "metadata": {
        "id": "GA3oRLxMRohz",
        "colab_type": "code",
        "outputId": "5c1a10b5-bca0-4a5d-eca4-615b1c88feb0",
        "colab": {
          "base_uri": "https://localhost:8080/",
          "height": 1142
        }
      },
      "cell_type": "code",
      "source": [
        "!cd /content && rm -rf gpt-2 && git clone https://github.com/lucidrains/gpt-2.git\n",
        "%cd /content/gpt-2\n",
        "!pip install -r requirements.txt\n",
        "!mkdir -p models/117M && sh download_model.sh 117M"
      ],
      "execution_count": 0,
      "outputs": [
        {
          "output_type": "stream",
          "text": [
            "Cloning into 'gpt-2'...\n",
            "remote: Enumerating objects: 35, done.\u001b[K\n",
            "remote: Total 35 (delta 0), reused 0 (delta 0), pack-reused 35\n",
            "Unpacking objects: 100% (35/35), done.\n",
            "/content/gpt-2\n",
            "Collecting fire>=0.1.3 (from -r requirements.txt (line 1))\n",
            "  Downloading https://files.pythonhosted.org/packages/5a/b7/205702f348aab198baecd1d8344a90748cb68f53bdcd1cc30cbc08e47d3e/fire-0.1.3.tar.gz\n",
            "Requirement already satisfied: tensorflow>=1.12 in /usr/local/lib/python3.6/dist-packages (from -r requirements.txt (line 2)) (1.13.0rc1)\n",
            "Collecting regex==2017.4.5 (from -r requirements.txt (line 3))\n",
            "\u001b[?25l  Downloading https://files.pythonhosted.org/packages/36/62/c0c0d762ffd4ffaf39f372eb8561b8d491a11ace5a7884610424a8b40f95/regex-2017.04.05.tar.gz (601kB)\n",
            "\u001b[K    100% |████████████████████████████████| 604kB 24.1MB/s \n",
            "\u001b[?25hRequirement already satisfied: six in /usr/local/lib/python3.6/dist-packages (from fire>=0.1.3->-r requirements.txt (line 1)) (1.11.0)\n",
            "Requirement already satisfied: tensorboard<1.13.0,>=1.12.0 in /usr/local/lib/python3.6/dist-packages (from tensorflow>=1.12->-r requirements.txt (line 2)) (1.12.2)\n",
            "Requirement already satisfied: keras-applications>=1.0.6 in /usr/local/lib/python3.6/dist-packages (from tensorflow>=1.12->-r requirements.txt (line 2)) (1.0.7)\n",
            "Requirement already satisfied: wheel>=0.26 in /usr/local/lib/python3.6/dist-packages (from tensorflow>=1.12->-r requirements.txt (line 2)) (0.33.0)\n",
            "Requirement already satisfied: numpy>=1.13.3 in /usr/local/lib/python3.6/dist-packages (from tensorflow>=1.12->-r requirements.txt (line 2)) (1.14.6)\n",
            "Requirement already satisfied: astor>=0.6.0 in /usr/local/lib/python3.6/dist-packages (from tensorflow>=1.12->-r requirements.txt (line 2)) (0.7.1)\n",
            "Requirement already satisfied: grpcio>=1.8.6 in /usr/local/lib/python3.6/dist-packages (from tensorflow>=1.12->-r requirements.txt (line 2)) (1.15.0)\n",
            "Requirement already satisfied: absl-py>=0.1.6 in /usr/local/lib/python3.6/dist-packages (from tensorflow>=1.12->-r requirements.txt (line 2)) (0.7.0)\n",
            "Requirement already satisfied: gast>=0.2.0 in /usr/local/lib/python3.6/dist-packages (from tensorflow>=1.12->-r requirements.txt (line 2)) (0.2.2)\n",
            "Requirement already satisfied: termcolor>=1.1.0 in /usr/local/lib/python3.6/dist-packages (from tensorflow>=1.12->-r requirements.txt (line 2)) (1.1.0)\n",
            "Requirement already satisfied: keras-preprocessing>=1.0.5 in /usr/local/lib/python3.6/dist-packages (from tensorflow>=1.12->-r requirements.txt (line 2)) (1.0.9)\n",
            "Requirement already satisfied: protobuf>=3.6.1 in /usr/local/lib/python3.6/dist-packages (from tensorflow>=1.12->-r requirements.txt (line 2)) (3.6.1)\n",
            "Requirement already satisfied: tensorflow-estimator<1.14.0rc0,>=1.13.0rc0 in /usr/local/lib/python3.6/dist-packages (from tensorflow>=1.12->-r requirements.txt (line 2)) (1.13.0rc0)\n",
            "Requirement already satisfied: werkzeug>=0.11.10 in /usr/local/lib/python3.6/dist-packages (from tensorboard<1.13.0,>=1.12.0->tensorflow>=1.12->-r requirements.txt (line 2)) (0.14.1)\n",
            "Requirement already satisfied: markdown>=2.6.8 in /usr/local/lib/python3.6/dist-packages (from tensorboard<1.13.0,>=1.12.0->tensorflow>=1.12->-r requirements.txt (line 2)) (3.0.1)\n",
            "Requirement already satisfied: h5py in /usr/local/lib/python3.6/dist-packages (from keras-applications>=1.0.6->tensorflow>=1.12->-r requirements.txt (line 2)) (2.8.0)\n",
            "Requirement already satisfied: setuptools in /usr/local/lib/python3.6/dist-packages (from protobuf>=3.6.1->tensorflow>=1.12->-r requirements.txt (line 2)) (40.8.0)\n",
            "Requirement already satisfied: mock>=2.0.0 in /usr/local/lib/python3.6/dist-packages (from tensorflow-estimator<1.14.0rc0,>=1.13.0rc0->tensorflow>=1.12->-r requirements.txt (line 2)) (2.0.0)\n",
            "Requirement already satisfied: pbr>=0.11 in /usr/local/lib/python3.6/dist-packages (from mock>=2.0.0->tensorflow-estimator<1.14.0rc0,>=1.13.0rc0->tensorflow>=1.12->-r requirements.txt (line 2)) (5.1.2)\n",
            "Building wheels for collected packages: fire, regex\n",
            "  Building wheel for fire (setup.py) ... \u001b[?25ldone\n",
            "\u001b[?25h  Stored in directory: /root/.cache/pip/wheels/2a/1a/4d/6b30377c3051e76559d1185c1dbbfff15aed31f87acdd14c22\n",
            "  Building wheel for regex (setup.py) ... \u001b[?25ldone\n",
            "\u001b[?25h  Stored in directory: /root/.cache/pip/wheels/75/07/38/3c16b529d50cb4e0cd3dbc7b75cece8a09c132692c74450b01\n",
            "Successfully built fire regex\n",
            "\u001b[31mspacy 2.0.18 has requirement numpy>=1.15.0, but you'll have numpy 1.14.6 which is incompatible.\u001b[0m\n",
            "\u001b[31mspacy 2.0.18 has requirement regex==2018.01.10, but you'll have regex 2017.4.5 which is incompatible.\u001b[0m\n",
            "Installing collected packages: fire, regex\n",
            "  Found existing installation: regex 2018.1.10\n",
            "    Uninstalling regex-2018.1.10:\n",
            "      Successfully uninstalled regex-2018.1.10\n",
            "Successfully installed fire-0.1.3 regex-2017.4.5\n",
            "mkdir: cannot create directory ‘models/117M’: File exists\n",
            "Copying gs://gpt-2/models/117M/checkpoint...\n",
            "/ [1 files][   77.0 B/   77.0 B]                                                \n",
            "Operation completed over 1 objects/77.0 B.                                       \n",
            "Copying gs://gpt-2/models/117M/encoder.json...\n",
            "/ [1 files][ 1017 KiB/ 1017 KiB]                                                \n",
            "Operation completed over 1 objects/1017.9 KiB.                                   \n",
            "Copying gs://gpt-2/models/117M/hparams.json...\n",
            "/ [1 files][   90.0 B/   90.0 B]                                                \n",
            "Operation completed over 1 objects/90.0 B.                                       \n",
            "Copying gs://gpt-2/models/117M/model.ckpt.data-00000-of-00001...\n",
            "\\ [1 files][474.7 MiB/474.7 MiB]                                                \n",
            "Operation completed over 1 objects/474.7 MiB.                                    \n",
            "Copying gs://gpt-2/models/117M/model.ckpt.index...\n",
            "/ [1 files][  5.1 KiB/  5.1 KiB]                                                \n",
            "Operation completed over 1 objects/5.1 KiB.                                      \n",
            "Copying gs://gpt-2/models/117M/model.ckpt.meta...\n",
            "/ [1 files][460.1 KiB/460.1 KiB]                                                \n",
            "Operation completed over 1 objects/460.1 KiB.                                    \n",
            "Copying gs://gpt-2/models/117M/vocab.bpe...\n",
            "/ [1 files][445.6 KiB/445.6 KiB]                                                \n",
            "Operation completed over 1 objects/445.6 KiB.                                    \n"
          ],
          "name": "stdout"
        }
      ]
    },
    {
      "metadata": {
        "id": "VOLJcvV4X7GG",
        "colab_type": "code",
        "outputId": "5ed449b8-6a9e-4896-f90f-de211dc6d100",
        "colab": {
          "base_uri": "https://localhost:8080/",
          "height": 1237
        }
      },
      "cell_type": "code",
      "source": [
        "!python src/interactive_conditional_samples.py"
      ],
      "execution_count": 0,
      "outputs": [
        {
          "output_type": "stream",
          "text": [
            "2019-02-19 17:39:15.650739: I tensorflow/core/platform/profile_utils/cpu_utils.cc:94] CPU Frequency: 2300000000 Hz\n",
            "2019-02-19 17:39:15.651118: I tensorflow/compiler/xla/service/service.cc:150] XLA service 0x17c6100 executing computations on platform Host. Devices:\n",
            "2019-02-19 17:39:15.651155: I tensorflow/compiler/xla/service/service.cc:158]   StreamExecutor device (0): <undefined>, <undefined>\n",
            "2019-02-19 17:39:15.806040: I tensorflow/stream_executor/cuda/cuda_gpu_executor.cc:998] successful NUMA node read from SysFS had negative value (-1), but there must be at least one NUMA node, so returning NUMA node zero\n",
            "2019-02-19 17:39:15.806567: I tensorflow/compiler/xla/service/service.cc:150] XLA service 0x17c7700 executing computations on platform CUDA. Devices:\n",
            "2019-02-19 17:39:15.806604: I tensorflow/compiler/xla/service/service.cc:158]   StreamExecutor device (0): Tesla K80, Compute Capability 3.7\n",
            "2019-02-19 17:39:15.807011: I tensorflow/core/common_runtime/gpu/gpu_device.cc:1433] Found device 0 with properties: \n",
            "name: Tesla K80 major: 3 minor: 7 memoryClockRate(GHz): 0.8235\n",
            "pciBusID: 0000:00:04.0\n",
            "totalMemory: 11.17GiB freeMemory: 11.10GiB\n",
            "2019-02-19 17:39:15.807083: I tensorflow/core/common_runtime/gpu/gpu_device.cc:1512] Adding visible gpu devices: 0\n",
            "2019-02-19 17:39:17.214414: I tensorflow/core/common_runtime/gpu/gpu_device.cc:984] Device interconnect StreamExecutor with strength 1 edge matrix:\n",
            "2019-02-19 17:39:17.214477: I tensorflow/core/common_runtime/gpu/gpu_device.cc:990]      0 \n",
            "2019-02-19 17:39:17.214496: I tensorflow/core/common_runtime/gpu/gpu_device.cc:1003] 0:   N \n",
            "2019-02-19 17:39:17.214772: W tensorflow/core/common_runtime/gpu/gpu_bfc_allocator.cc:42] Overriding allow_growth setting because the TF_FORCE_GPU_ALLOW_GROWTH environment variable is set. Original config value was 0.\n",
            "2019-02-19 17:39:17.214856: I tensorflow/core/common_runtime/gpu/gpu_device.cc:1115] Created TensorFlow device (/job:localhost/replica:0/task:0/device:GPU:0 with 10754 MB memory) -> physical GPU (device: 0, name: Tesla K80, pci bus id: 0000:00:04.0, compute capability: 3.7)\n",
            "WARNING:tensorflow:From /usr/local/lib/python3.6/dist-packages/tensorflow/python/framework/op_def_library.py:263: colocate_with (from tensorflow.python.framework.ops) is deprecated and will be removed in a future version.\n",
            "Instructions for updating:\n",
            "Colocations handled automatically by placer.\n",
            "WARNING:tensorflow:From /content/gpt-2/src/sample.py:51: to_float (from tensorflow.python.ops.math_ops) is deprecated and will be removed in a future version.\n",
            "Instructions for updating:\n",
            "Use tf.cast instead.\n",
            "WARNING:tensorflow:From /content/gpt-2/src/sample.py:53: multinomial (from tensorflow.python.ops.random_ops) is deprecated and will be removed in a future version.\n",
            "Instructions for updating:\n",
            "Use tf.random.categorical instead.\n",
            "WARNING:tensorflow:From /usr/local/lib/python3.6/dist-packages/tensorflow/python/training/saver.py:1266: checkpoint_exists (from tensorflow.python.training.checkpoint_management) is deprecated and will be removed in a future version.\n",
            "Instructions for updating:\n",
            "Use standard file APIs to check for files with this prefix.\n",
            "Model prompt >>> Great 3BR Charming Apartment\n",
            "2019-02-19 17:39:38.282267: I tensorflow/stream_executor/dso_loader.cc:152] successfully opened CUDA library libcublas.so.10.0 locally\n",
            "======================================== SAMPLE 1 ========================================\n",
            " 3BR Charming Apartment\n",
            "\n",
            "John and Nicolas bring us breakfast, lunch on the go and a surprise with our new venture…door prizes. Arriving early in the morning and hooking up the quick disconnects, we can grab our breakfast and start at the Illinois beer shop. The friendly staff is flexible and easy to handle. Senior Guy really came up with some clever little concepts for us to game…and stay off top of, particularly the tailgate at 2nd and W. Kirchner. Our timing wasn't great as we did pay around 4000 N. until we opened up our doors to youngsters at 6:45 over la conference N, but the game was such a cool experience we'd wager that an abundance of fans would want to help us hit our next first game. Call it the \"Milpettle Ring Therapy\".\n",
            "\n",
            "Season of Azur Deals! - Cash on the spot or Poor Bee Pharma\n",
            "\n",
            "View Date: 3/25/13 10:29 AM – 9:30 AM\n",
            "\n",
            "Rome on Saturday $25\n",
            "\n",
            "Black-Eyed Happy Box Game (4 Game -$13 Ends Late)\n",
            "\n",
            "Season-of-Azur Deal: Cash on the Pot\n",
            "\n",
            "Season of Azur Deals! - $25 Candles or MacBook Cases\n",
            "\n",
            "Guests. Gift cards, the cash back and much much more! Soccer & Jeep\n",
            "\n",
            "Joe Paducco from 😱 USA for free knife bigger than my life and his aptly named Handle Trihadi Knife Combo\n",
            "\n",
            "This was a perfect appearance and the glycerinering layering of a day. Nevertheless it did sum up to show that there is a lot of respect from Severe Seasteadie and Y'all for what you do. Thursday Hot off of Y to add, I call it Chicago with Barbershop.com. Like what we are doing in Chicago? Contact your local OPI, Event & Fitness Zone and a potluck on Hope based off of even(on your restaurant nights) like – Grill Tour Service, Full Service & Northeast 401 Oak.. membership begins at $55 and up if you choose to join our Professional Group! USA needs HUGE GDP programming and our Yost Region's are working hard to make a lot of money in Vegas and spread the power for other countries. Any new holders. Italian spread) with Chris Chung giving his latest tip in the Canadian stand with Julie Childs telling YOU women make outs of you when in trade interviews. US exchange rate format for box warden raid. Later build on\n",
            "================================================================================\n",
            "Model prompt >>> My two room flat with a roommate\n",
            "======================================== SAMPLE 1 ========================================\n",
            " two room flat with a roommate is 2 miles away. I'll be using it in the afternoon and after that we'll be swapping places because staying in Bath and admitting we're staying weren't going to last longer without meeting people.\n",
            "\n",
            "Stoke Community and Steve Walker's twitchy worms:\n",
            "\n",
            "No fucking idea me? I have no idea what this is real about. I have no idea for what it's really about. GT4 doesn't talk like real people because you fuck up.\n",
            "\n",
            "The Weston community has several RW affiliates, so the BTN president is likely saying it's coming during Trinity or ROX like some kid would do and also clearly this is a time to cut back.<|endoftext|>Still loading...\n",
            "\n",
            "A B C D E F G H I J K L M N O P Q R S T U V W X Y Z 2 Steve Forbes Most Stock Positions Available 3 Bits Not Described Full Default General Month April May June July August September October November February 3 3 18GG NE 400 89 Pinto 265 170 Main NY vs New York 60% KG 35 NA 90 Philly SS (Check Albany doesn't have a current rotation lol) 101 Pins Molloy 65 Man NY 66\n",
            "\n",
            "70 Brown fk its back High 45 Silly Clayman 70 NY 32 etc. 61 $500 Weave run 143 2015 BK 73 Clemons 86 in case Sunday training confirmed it is not on route. My 66 and 66T, I've theirs off the receiver routes already for the wild draft and as soon as he can get that transition into the last wash-it league mins. 42AST virtual 67 Schwartz Ranch 66 Town Legisl Have Me! 70 York Gaston 70 Solfe 57 I'll tune to Brandon at 2.25 A/B. Here are My TPM 100 changes reserved due to 3-and-6 OT's and Dst draft rush. 70 OF gets 65% fw ongoing prevent g when I Rf outing. 57 POL incentives sure right there. 71 TY's 6 arr 90 Benkafer 90 Benkafer may be slightly advanced. 77 Dion Mighty 93 Architect Navarro 76 The Prime guy 90 Dall may be 44 plus, compared.\n",
            "\n",
            "B+ But Knights forecast. 80 Pinch Rob Gen. 92 i Zdeme 100 I'll still like Nheimberg, I hope I get paid ASAP. 77 Ray Lapointe 88 DRP third so far. 80 ex Philly will have 87 Windsor just offer NJ athletic insurance skibrl 22 dice I've found a lot more reasonable numbers but\n",
            "================================================================================\n",
            "Model prompt >>> "
          ],
          "name": "stdout"
        }
      ]
    }
  ]
}